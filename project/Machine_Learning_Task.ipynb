{
  "nbformat": 4,
  "nbformat_minor": 0,
  "metadata": {
    "colab": {
      "name": "Machine Learning Task.ipynb",
      "provenance": [],
      "collapsed_sections": [],
      "toc_visible": true
    },
    "kernelspec": {
      "name": "python3",
      "display_name": "Python 3"
    },
    "language_info": {
      "name": "python"
    }
  },
  "cells": [
    {
      "cell_type": "markdown",
      "metadata": {
        "id": "ufPSbAcnpM2N"
      },
      "source": [
        "### **Решение задачи регрессии** "
      ]
    },
    {
      "cell_type": "markdown",
      "metadata": {
        "id": "jInhToLLr2p-"
      },
      "source": [
        "Ранее мы исследовали датасет по успеваемости студентов. Сейчас мы хотим попытаться предсказать оценки студентов с различными параметрами."
      ]
    },
    {
      "cell_type": "code",
      "metadata": {
        "id": "wm9R3TaZacOb",
        "colab": {
          "base_uri": "https://localhost:8080/",
          "height": 195
        },
        "outputId": "bf6d5ad8-a8f7-4315-9716-940c282bb139"
      },
      "source": [
        "import pandas as pd\n",
        "import numpy as np\n",
        "\n",
        "df = pd.read_csv('StudentsPerformance.csv')\n",
        "df.head()"
      ],
      "execution_count": null,
      "outputs": [
        {
          "output_type": "execute_result",
          "data": {
            "text/html": [
              "<div>\n",
              "<style scoped>\n",
              "    .dataframe tbody tr th:only-of-type {\n",
              "        vertical-align: middle;\n",
              "    }\n",
              "\n",
              "    .dataframe tbody tr th {\n",
              "        vertical-align: top;\n",
              "    }\n",
              "\n",
              "    .dataframe thead th {\n",
              "        text-align: right;\n",
              "    }\n",
              "</style>\n",
              "<table border=\"1\" class=\"dataframe\">\n",
              "  <thead>\n",
              "    <tr style=\"text-align: right;\">\n",
              "      <th></th>\n",
              "      <th>gender</th>\n",
              "      <th>race/ethnicity</th>\n",
              "      <th>parental level of education</th>\n",
              "      <th>lunch</th>\n",
              "      <th>test preparation course</th>\n",
              "      <th>math score</th>\n",
              "      <th>reading score</th>\n",
              "      <th>writing score</th>\n",
              "    </tr>\n",
              "  </thead>\n",
              "  <tbody>\n",
              "    <tr>\n",
              "      <th>0</th>\n",
              "      <td>female</td>\n",
              "      <td>group B</td>\n",
              "      <td>bachelor's degree</td>\n",
              "      <td>standard</td>\n",
              "      <td>none</td>\n",
              "      <td>72</td>\n",
              "      <td>72</td>\n",
              "      <td>74</td>\n",
              "    </tr>\n",
              "    <tr>\n",
              "      <th>1</th>\n",
              "      <td>female</td>\n",
              "      <td>group C</td>\n",
              "      <td>some college</td>\n",
              "      <td>standard</td>\n",
              "      <td>completed</td>\n",
              "      <td>69</td>\n",
              "      <td>90</td>\n",
              "      <td>88</td>\n",
              "    </tr>\n",
              "    <tr>\n",
              "      <th>2</th>\n",
              "      <td>female</td>\n",
              "      <td>group B</td>\n",
              "      <td>master's degree</td>\n",
              "      <td>standard</td>\n",
              "      <td>none</td>\n",
              "      <td>90</td>\n",
              "      <td>95</td>\n",
              "      <td>93</td>\n",
              "    </tr>\n",
              "    <tr>\n",
              "      <th>3</th>\n",
              "      <td>male</td>\n",
              "      <td>group A</td>\n",
              "      <td>associate's degree</td>\n",
              "      <td>free/reduced</td>\n",
              "      <td>none</td>\n",
              "      <td>47</td>\n",
              "      <td>57</td>\n",
              "      <td>44</td>\n",
              "    </tr>\n",
              "    <tr>\n",
              "      <th>4</th>\n",
              "      <td>male</td>\n",
              "      <td>group C</td>\n",
              "      <td>some college</td>\n",
              "      <td>standard</td>\n",
              "      <td>none</td>\n",
              "      <td>76</td>\n",
              "      <td>78</td>\n",
              "      <td>75</td>\n",
              "    </tr>\n",
              "  </tbody>\n",
              "</table>\n",
              "</div>"
            ],
            "text/plain": [
              "   gender race/ethnicity  ... reading score writing score\n",
              "0  female        group B  ...            72            74\n",
              "1  female        group C  ...            90            88\n",
              "2  female        group B  ...            95            93\n",
              "3    male        group A  ...            57            44\n",
              "4    male        group C  ...            78            75\n",
              "\n",
              "[5 rows x 8 columns]"
            ]
          },
          "metadata": {
            "tags": []
          },
          "execution_count": 1
        }
      ]
    },
    {
      "cell_type": "code",
      "metadata": {
        "colab": {
          "base_uri": "https://localhost:8080/"
        },
        "id": "tAe0XCaMpuyc",
        "outputId": "f0590058-bc10-4261-e5ca-fa52b63aa22b"
      },
      "source": [
        "df.shape"
      ],
      "execution_count": null,
      "outputs": [
        {
          "output_type": "execute_result",
          "data": {
            "text/plain": [
              "(1000, 8)"
            ]
          },
          "metadata": {
            "tags": []
          },
          "execution_count": 2
        }
      ]
    },
    {
      "cell_type": "markdown",
      "metadata": {
        "id": "HcECZRiPp0cz"
      },
      "source": [
        "Нормализация данных"
      ]
    },
    {
      "cell_type": "code",
      "metadata": {
        "id": "i6voDOvgqZIo"
      },
      "source": [
        "GENDER = 'gender'\n",
        "RACE = 'race/ethnicity'\n",
        "PLE = 'parental level of education'\n",
        "LUNCH = 'lunch'\n",
        "PREPAR = 'test preparation course'\n",
        "MATH = 'math score'\n",
        "READ = 'reading score'\n",
        "WRITE = 'writing score'"
      ],
      "execution_count": null,
      "outputs": []
    },
    {
      "cell_type": "code",
      "metadata": {
        "colab": {
          "base_uri": "https://localhost:8080/"
        },
        "id": "jBvORhnCs_Jt",
        "outputId": "da6695ac-fc07-4a23-ac41-e79bc699c739"
      },
      "source": [
        "races = list(df[RACE].unique())\n",
        "races.sort()\n",
        "races"
      ],
      "execution_count": null,
      "outputs": [
        {
          "output_type": "execute_result",
          "data": {
            "text/plain": [
              "['group A', 'group B', 'group C', 'group D', 'group E']"
            ]
          },
          "metadata": {
            "tags": []
          },
          "execution_count": 4
        }
      ]
    },
    {
      "cell_type": "code",
      "metadata": {
        "id": "CX3wgb1_pxUi"
      },
      "source": [
        "def norm_gender(gender: str) -> int:\n",
        "  if gender == 'male':\n",
        "    return 0\n",
        "  else:\n",
        "    return 1\n",
        "\n",
        "races = list(df[RACE].unique())\n",
        "races.sort()\n",
        "\n",
        "def norm_race(race: str) -> int:\n",
        "  return races.index(race)\n",
        "\n",
        "ples = list(df[PLE].unique())\n",
        "ples.sort()\n",
        "def norm_ple(ple: str) -> int:\n",
        "  \n",
        "  return ples.index(ple)\n",
        "\n",
        "def norm_lunch(lunch: str) -> int:\n",
        "  if lunch == 'standart':\n",
        "    return 0\n",
        "  else:\n",
        "    return 1\n",
        "\n",
        "def norm_preparation(is_prepared: str) -> int:\n",
        "  if is_prepared == 'none':\n",
        "    return 0\n",
        "  else:\n",
        "    return 1"
      ],
      "execution_count": null,
      "outputs": []
    },
    {
      "cell_type": "code",
      "metadata": {
        "colab": {
          "base_uri": "https://localhost:8080/",
          "height": 195
        },
        "id": "Kik18pERrjJ8",
        "outputId": "8b722232-1bf4-48eb-eeee-215629372ebc"
      },
      "source": [
        "df_norm = df.copy()\n",
        "\n",
        "df_norm[GENDER] = df_norm[GENDER].apply(norm_gender)\n",
        "df_norm[RACE] = df_norm[RACE].apply(norm_race)\n",
        "df_norm[PLE] = df_norm[PLE].apply(norm_ple)\n",
        "df_norm[LUNCH] = df_norm[LUNCH].apply(norm_lunch)\n",
        "df_norm[PREPAR] = df_norm[PREPAR].apply(norm_preparation)\n",
        "\n",
        "df_norm.head()"
      ],
      "execution_count": null,
      "outputs": [
        {
          "output_type": "execute_result",
          "data": {
            "text/html": [
              "<div>\n",
              "<style scoped>\n",
              "    .dataframe tbody tr th:only-of-type {\n",
              "        vertical-align: middle;\n",
              "    }\n",
              "\n",
              "    .dataframe tbody tr th {\n",
              "        vertical-align: top;\n",
              "    }\n",
              "\n",
              "    .dataframe thead th {\n",
              "        text-align: right;\n",
              "    }\n",
              "</style>\n",
              "<table border=\"1\" class=\"dataframe\">\n",
              "  <thead>\n",
              "    <tr style=\"text-align: right;\">\n",
              "      <th></th>\n",
              "      <th>gender</th>\n",
              "      <th>race/ethnicity</th>\n",
              "      <th>parental level of education</th>\n",
              "      <th>lunch</th>\n",
              "      <th>test preparation course</th>\n",
              "      <th>math score</th>\n",
              "      <th>reading score</th>\n",
              "      <th>writing score</th>\n",
              "    </tr>\n",
              "  </thead>\n",
              "  <tbody>\n",
              "    <tr>\n",
              "      <th>0</th>\n",
              "      <td>1</td>\n",
              "      <td>1</td>\n",
              "      <td>1</td>\n",
              "      <td>1</td>\n",
              "      <td>0</td>\n",
              "      <td>72</td>\n",
              "      <td>72</td>\n",
              "      <td>74</td>\n",
              "    </tr>\n",
              "    <tr>\n",
              "      <th>1</th>\n",
              "      <td>1</td>\n",
              "      <td>2</td>\n",
              "      <td>4</td>\n",
              "      <td>1</td>\n",
              "      <td>1</td>\n",
              "      <td>69</td>\n",
              "      <td>90</td>\n",
              "      <td>88</td>\n",
              "    </tr>\n",
              "    <tr>\n",
              "      <th>2</th>\n",
              "      <td>1</td>\n",
              "      <td>1</td>\n",
              "      <td>3</td>\n",
              "      <td>1</td>\n",
              "      <td>0</td>\n",
              "      <td>90</td>\n",
              "      <td>95</td>\n",
              "      <td>93</td>\n",
              "    </tr>\n",
              "    <tr>\n",
              "      <th>3</th>\n",
              "      <td>0</td>\n",
              "      <td>0</td>\n",
              "      <td>0</td>\n",
              "      <td>1</td>\n",
              "      <td>0</td>\n",
              "      <td>47</td>\n",
              "      <td>57</td>\n",
              "      <td>44</td>\n",
              "    </tr>\n",
              "    <tr>\n",
              "      <th>4</th>\n",
              "      <td>0</td>\n",
              "      <td>2</td>\n",
              "      <td>4</td>\n",
              "      <td>1</td>\n",
              "      <td>0</td>\n",
              "      <td>76</td>\n",
              "      <td>78</td>\n",
              "      <td>75</td>\n",
              "    </tr>\n",
              "  </tbody>\n",
              "</table>\n",
              "</div>"
            ],
            "text/plain": [
              "   gender  race/ethnicity  ...  reading score  writing score\n",
              "0       1               1  ...             72             74\n",
              "1       1               2  ...             90             88\n",
              "2       1               1  ...             95             93\n",
              "3       0               0  ...             57             44\n",
              "4       0               2  ...             78             75\n",
              "\n",
              "[5 rows x 8 columns]"
            ]
          },
          "metadata": {
            "tags": []
          },
          "execution_count": 6
        }
      ]
    },
    {
      "cell_type": "code",
      "metadata": {
        "id": "DQ09KwpVs0BY"
      },
      "source": [
        "from sklearn.linear_model import LinearRegression\n",
        "from sklearn.model_selection import train_test_split\n",
        "from sklearn.metrics import mean_squared_error\n",
        "\n",
        "(trainData, testData, trainAns, testAns) = train_test_split(\n",
        "    df_norm[[GENDER, RACE, PLE, LUNCH, PREPAR]].to_numpy(),\n",
        "    df_norm[[MATH, READ, WRITE]].to_numpy(),\n",
        "    train_size=0.7)"
      ],
      "execution_count": null,
      "outputs": []
    },
    {
      "cell_type": "code",
      "metadata": {
        "colab": {
          "base_uri": "https://localhost:8080/"
        },
        "id": "GTHjxxHwttCP",
        "outputId": "b0767c36-b347-48fa-b42b-0dcd1620aadc"
      },
      "source": [
        "model = LinearRegression().fit(trainData, trainAns)\n",
        "model.score(trainData, trainAns)"
      ],
      "execution_count": null,
      "outputs": [
        {
          "output_type": "stream",
          "text": [
            "/usr/local/lib/python3.7/dist-packages/sklearn/base.py:434: FutureWarning: The default value of multioutput (not exposed in score method) will change from 'variance_weighted' to 'uniform_average' in 0.23 to keep consistent with 'metrics.r2_score'. To specify the default value manually and avoid the warning, please either call 'metrics.r2_score' directly or make a custom scorer with 'metrics.make_scorer' (the built-in scorer 'r2' uses multioutput='uniform_average').\n",
            "  \"multioutput='uniform_average').\", FutureWarning)\n"
          ],
          "name": "stderr"
        },
        {
          "output_type": "execute_result",
          "data": {
            "text/plain": [
              "0.15604485344859867"
            ]
          },
          "metadata": {
            "tags": []
          },
          "execution_count": 8
        }
      ]
    },
    {
      "cell_type": "code",
      "metadata": {
        "colab": {
          "base_uri": "https://localhost:8080/"
        },
        "id": "hcdCha0tuygU",
        "outputId": "5f5ecc6e-cd7e-43ea-8591-bebe6e32fa77"
      },
      "source": [
        "pred = model.predict(testData)\n",
        "\n",
        "print(model.score(testData, testAns))\n",
        "\n",
        "for i in range(5):\n",
        "  round_pred = [round(elem) for elem in pred[i]]\n",
        "  print(\"TEST DATA\", testData[i], \"ANS\", round_pred, \"ACT\", testAns[i])"
      ],
      "execution_count": null,
      "outputs": [
        {
          "output_type": "stream",
          "text": [
            "0.15472284482169119\n",
            "TEST DATA [1 1 0 1 0] ANS [61, 70, 69] ACT [71 83 78]\n",
            "TEST DATA [1 2 0 1 0] ANS [64, 72, 71] ACT [69 80 71]\n",
            "TEST DATA [1 4 2 1 0] ANS [68, 74, 73] ACT [99 93 90]\n",
            "TEST DATA [1 3 5 1 0] ANS [64, 71, 70] ACT [73 84 85]\n",
            "TEST DATA [1 2 5 1 1] ANS [67, 76, 78] ACT [65 76 75]\n"
          ],
          "name": "stdout"
        },
        {
          "output_type": "stream",
          "text": [
            "/usr/local/lib/python3.7/dist-packages/sklearn/base.py:434: FutureWarning: The default value of multioutput (not exposed in score method) will change from 'variance_weighted' to 'uniform_average' in 0.23 to keep consistent with 'metrics.r2_score'. To specify the default value manually and avoid the warning, please either call 'metrics.r2_score' directly or make a custom scorer with 'metrics.make_scorer' (the built-in scorer 'r2' uses multioutput='uniform_average').\n",
            "  \"multioutput='uniform_average').\", FutureWarning)\n"
          ],
          "name": "stderr"
        }
      ]
    },
    {
      "cell_type": "markdown",
      "metadata": {
        "id": "iXSIh-Q-2A4L"
      },
      "source": [
        "Видно, что коэффициент детерминации достаточно мал, что означает, что мы можем предсказывать результат лишь очень приблизительно"
      ]
    },
    {
      "cell_type": "code",
      "metadata": {
        "colab": {
          "base_uri": "https://localhost:8080/"
        },
        "id": "XH2L32r92YD2",
        "outputId": "81e4ac6e-abea-4597-c2e4-b925b3626b36"
      },
      "source": [
        "mean_squared_error(testAns, model.predict(testData), squared=False) # MSE"
      ],
      "execution_count": null,
      "outputs": [
        {
          "output_type": "execute_result",
          "data": {
            "text/plain": [
              "14.526800407137248"
            ]
          },
          "metadata": {
            "tags": []
          },
          "execution_count": 42
        }
      ]
    },
    {
      "cell_type": "markdown",
      "metadata": {
        "id": "t3suCOfV2qoQ"
      },
      "source": [
        "Погрешность 14.5 баллов - это достаточно много. Убеждаемся в относительной бесполезности модели. Можно попробовать избавиться от части столбцов и обучить другую модель. \n",
        "\n",
        "Добавим в модель данные о других оценках"
      ]
    },
    {
      "cell_type": "code",
      "metadata": {
        "colab": {
          "base_uri": "https://localhost:8080/"
        },
        "id": "0GVrqftLidyc",
        "outputId": "7c9912d7-686d-4075-e338-d802b5f287a4"
      },
      "source": [
        "(trainData2, testData2, trainAns2, testAns2) = train_test_split(\n",
        "    df_norm[[GENDER, RACE, PLE, LUNCH, PREPAR, MATH, READ]].to_numpy(),\n",
        "    df_norm[[WRITE]].to_numpy(),\n",
        "    train_size=0.7)\n",
        "\n",
        "model2 = LinearRegression().fit(trainData2, trainAns2)\n",
        "model2.score(trainData2, trainAns2)"
      ],
      "execution_count": null,
      "outputs": [
        {
          "output_type": "execute_result",
          "data": {
            "text/plain": [
              "0.9435767981339643"
            ]
          },
          "metadata": {
            "tags": []
          },
          "execution_count": 11
        }
      ]
    },
    {
      "cell_type": "code",
      "metadata": {
        "colab": {
          "base_uri": "https://localhost:8080/"
        },
        "id": "1_mFZRd4i4Cv",
        "outputId": "70edf02a-ee6f-4be8-cca5-14ee7c2a509b"
      },
      "source": [
        "pred = model2.predict(testData2)\n",
        "\n",
        "for i in range(20):\n",
        "  round_pred = [round(elem) for elem in pred[i]]\n",
        "  print(\"TEST DATA\", testData[i], \"ANS\", round_pred, \"ACT\", testAns[i][2])"
      ],
      "execution_count": null,
      "outputs": [
        {
          "output_type": "stream",
          "text": [
            "TEST DATA [1 1 0 1 0] ANS [83] ACT 78\n",
            "TEST DATA [1 2 0 1 0] ANS [81] ACT 71\n",
            "TEST DATA [1 4 2 1 0] ANS [86] ACT 90\n",
            "TEST DATA [1 3 5 1 0] ANS [76] ACT 85\n",
            "TEST DATA [1 2 5 1 1] ANS [80] ACT 75\n",
            "TEST DATA [1 3 2 1 0] ANS [70] ACT 55\n",
            "TEST DATA [0 2 4 1 0] ANS [85] ACT 58\n",
            "TEST DATA [0 2 4 1 0] ANS [65] ACT 73\n",
            "TEST DATA [0 2 4 1 0] ANS [68] ACT 62\n",
            "TEST DATA [1 1 5 1 1] ANS [72] ACT 78\n",
            "TEST DATA [1 1 1 1 0] ANS [71] ACT 69\n",
            "TEST DATA [1 3 1 1 0] ANS [63] ACT 73\n",
            "TEST DATA [1 0 0 1 0] ANS [77] ACT 76\n",
            "TEST DATA [0 2 0 1 0] ANS [32] ACT 71\n",
            "TEST DATA [1 1 4 1 0] ANS [68] ACT 55\n",
            "TEST DATA [0 0 0 1 1] ANS [72] ACT 82\n",
            "TEST DATA [0 3 1 1 0] ANS [69] ACT 74\n",
            "TEST DATA [0 3 1 1 0] ANS [59] ACT 83\n",
            "TEST DATA [0 4 0 1 0] ANS [77] ACT 82\n",
            "TEST DATA [1 2 0 1 1] ANS [93] ACT 93\n"
          ],
          "name": "stdout"
        }
      ]
    },
    {
      "cell_type": "code",
      "metadata": {
        "colab": {
          "base_uri": "https://localhost:8080/"
        },
        "id": "TQIBNtw0jeib",
        "outputId": "1316d83a-d89c-49ef-f09d-ca87fd9137f7"
      },
      "source": [
        "mean_squared_error(testAns2, model2.predict(testData2), squared=False) # MSE"
      ],
      "execution_count": null,
      "outputs": [
        {
          "output_type": "execute_result",
          "data": {
            "text/plain": [
              "3.9813127576718337"
            ]
          },
          "metadata": {
            "tags": []
          },
          "execution_count": 24
        }
      ]
    },
    {
      "cell_type": "markdown",
      "metadata": {
        "id": "siDyt3YAmrMG"
      },
      "source": [
        "Результат оказался гораздо лучше. Можно предсказывать данные об оценках по одному предмету на основе данных о других оценках и личных данных студентов"
      ]
    },
    {
      "cell_type": "markdown",
      "metadata": {
        "id": "DVoFc8OU4aNU"
      },
      "source": [
        "### **Обучение методом k-NN**"
      ]
    },
    {
      "cell_type": "markdown",
      "metadata": {
        "id": "cN8WUeGM4lsb"
      },
      "source": [
        "Попробуем предсказать данные о студенте на основе его баллов"
      ]
    },
    {
      "cell_type": "code",
      "metadata": {
        "colab": {
          "base_uri": "https://localhost:8080/",
          "height": 195
        },
        "id": "kOqKoMU438Ww",
        "outputId": "b8af87e2-7928-433a-c9d3-9c2c3804ad6b"
      },
      "source": [
        "df.head()"
      ],
      "execution_count": null,
      "outputs": [
        {
          "output_type": "execute_result",
          "data": {
            "text/html": [
              "<div>\n",
              "<style scoped>\n",
              "    .dataframe tbody tr th:only-of-type {\n",
              "        vertical-align: middle;\n",
              "    }\n",
              "\n",
              "    .dataframe tbody tr th {\n",
              "        vertical-align: top;\n",
              "    }\n",
              "\n",
              "    .dataframe thead th {\n",
              "        text-align: right;\n",
              "    }\n",
              "</style>\n",
              "<table border=\"1\" class=\"dataframe\">\n",
              "  <thead>\n",
              "    <tr style=\"text-align: right;\">\n",
              "      <th></th>\n",
              "      <th>gender</th>\n",
              "      <th>race/ethnicity</th>\n",
              "      <th>parental level of education</th>\n",
              "      <th>lunch</th>\n",
              "      <th>test preparation course</th>\n",
              "      <th>math score</th>\n",
              "      <th>reading score</th>\n",
              "      <th>writing score</th>\n",
              "    </tr>\n",
              "  </thead>\n",
              "  <tbody>\n",
              "    <tr>\n",
              "      <th>0</th>\n",
              "      <td>female</td>\n",
              "      <td>group B</td>\n",
              "      <td>bachelor's degree</td>\n",
              "      <td>standard</td>\n",
              "      <td>none</td>\n",
              "      <td>72</td>\n",
              "      <td>72</td>\n",
              "      <td>74</td>\n",
              "    </tr>\n",
              "    <tr>\n",
              "      <th>1</th>\n",
              "      <td>female</td>\n",
              "      <td>group C</td>\n",
              "      <td>some college</td>\n",
              "      <td>standard</td>\n",
              "      <td>completed</td>\n",
              "      <td>69</td>\n",
              "      <td>90</td>\n",
              "      <td>88</td>\n",
              "    </tr>\n",
              "    <tr>\n",
              "      <th>2</th>\n",
              "      <td>female</td>\n",
              "      <td>group B</td>\n",
              "      <td>master's degree</td>\n",
              "      <td>standard</td>\n",
              "      <td>none</td>\n",
              "      <td>90</td>\n",
              "      <td>95</td>\n",
              "      <td>93</td>\n",
              "    </tr>\n",
              "    <tr>\n",
              "      <th>3</th>\n",
              "      <td>male</td>\n",
              "      <td>group A</td>\n",
              "      <td>associate's degree</td>\n",
              "      <td>free/reduced</td>\n",
              "      <td>none</td>\n",
              "      <td>47</td>\n",
              "      <td>57</td>\n",
              "      <td>44</td>\n",
              "    </tr>\n",
              "    <tr>\n",
              "      <th>4</th>\n",
              "      <td>male</td>\n",
              "      <td>group C</td>\n",
              "      <td>some college</td>\n",
              "      <td>standard</td>\n",
              "      <td>none</td>\n",
              "      <td>76</td>\n",
              "      <td>78</td>\n",
              "      <td>75</td>\n",
              "    </tr>\n",
              "  </tbody>\n",
              "</table>\n",
              "</div>"
            ],
            "text/plain": [
              "   gender race/ethnicity  ... reading score writing score\n",
              "0  female        group B  ...            72            74\n",
              "1  female        group C  ...            90            88\n",
              "2  female        group B  ...            95            93\n",
              "3    male        group A  ...            57            44\n",
              "4    male        group C  ...            78            75\n",
              "\n",
              "[5 rows x 8 columns]"
            ]
          },
          "metadata": {
            "tags": []
          },
          "execution_count": 46
        }
      ]
    },
    {
      "cell_type": "code",
      "metadata": {
        "colab": {
          "base_uri": "https://localhost:8080/",
          "height": 195
        },
        "id": "iyRQ67aL4s18",
        "outputId": "0aaed0f3-dd39-416d-fb04-59ac157ceb31"
      },
      "source": [
        "df_norm.head()"
      ],
      "execution_count": null,
      "outputs": [
        {
          "output_type": "execute_result",
          "data": {
            "text/html": [
              "<div>\n",
              "<style scoped>\n",
              "    .dataframe tbody tr th:only-of-type {\n",
              "        vertical-align: middle;\n",
              "    }\n",
              "\n",
              "    .dataframe tbody tr th {\n",
              "        vertical-align: top;\n",
              "    }\n",
              "\n",
              "    .dataframe thead th {\n",
              "        text-align: right;\n",
              "    }\n",
              "</style>\n",
              "<table border=\"1\" class=\"dataframe\">\n",
              "  <thead>\n",
              "    <tr style=\"text-align: right;\">\n",
              "      <th></th>\n",
              "      <th>gender</th>\n",
              "      <th>race/ethnicity</th>\n",
              "      <th>parental level of education</th>\n",
              "      <th>lunch</th>\n",
              "      <th>test preparation course</th>\n",
              "      <th>math score</th>\n",
              "      <th>reading score</th>\n",
              "      <th>writing score</th>\n",
              "    </tr>\n",
              "  </thead>\n",
              "  <tbody>\n",
              "    <tr>\n",
              "      <th>0</th>\n",
              "      <td>1</td>\n",
              "      <td>1</td>\n",
              "      <td>1</td>\n",
              "      <td>1</td>\n",
              "      <td>0</td>\n",
              "      <td>72</td>\n",
              "      <td>72</td>\n",
              "      <td>74</td>\n",
              "    </tr>\n",
              "    <tr>\n",
              "      <th>1</th>\n",
              "      <td>1</td>\n",
              "      <td>2</td>\n",
              "      <td>4</td>\n",
              "      <td>1</td>\n",
              "      <td>1</td>\n",
              "      <td>69</td>\n",
              "      <td>90</td>\n",
              "      <td>88</td>\n",
              "    </tr>\n",
              "    <tr>\n",
              "      <th>2</th>\n",
              "      <td>1</td>\n",
              "      <td>1</td>\n",
              "      <td>3</td>\n",
              "      <td>1</td>\n",
              "      <td>0</td>\n",
              "      <td>90</td>\n",
              "      <td>95</td>\n",
              "      <td>93</td>\n",
              "    </tr>\n",
              "    <tr>\n",
              "      <th>3</th>\n",
              "      <td>0</td>\n",
              "      <td>0</td>\n",
              "      <td>0</td>\n",
              "      <td>1</td>\n",
              "      <td>0</td>\n",
              "      <td>47</td>\n",
              "      <td>57</td>\n",
              "      <td>44</td>\n",
              "    </tr>\n",
              "    <tr>\n",
              "      <th>4</th>\n",
              "      <td>0</td>\n",
              "      <td>2</td>\n",
              "      <td>4</td>\n",
              "      <td>1</td>\n",
              "      <td>0</td>\n",
              "      <td>76</td>\n",
              "      <td>78</td>\n",
              "      <td>75</td>\n",
              "    </tr>\n",
              "  </tbody>\n",
              "</table>\n",
              "</div>"
            ],
            "text/plain": [
              "   gender  race/ethnicity  ...  reading score  writing score\n",
              "0       1               1  ...             72             74\n",
              "1       1               2  ...             90             88\n",
              "2       1               1  ...             95             93\n",
              "3       0               0  ...             57             44\n",
              "4       0               2  ...             78             75\n",
              "\n",
              "[5 rows x 8 columns]"
            ]
          },
          "metadata": {
            "tags": []
          },
          "execution_count": 47
        }
      ]
    },
    {
      "cell_type": "markdown",
      "metadata": {
        "id": "Xdo3V9s946TL"
      },
      "source": [
        "Попробуем сначала предсказать пол студента на основе данных"
      ]
    },
    {
      "cell_type": "code",
      "metadata": {
        "id": "0hjAslIT4vTL"
      },
      "source": [
        "from sklearn.neighbors import KNeighborsClassifier\n",
        "from sklearn.metrics import * \n",
        "from sklearn.metrics import plot_confusion_matrix"
      ],
      "execution_count": null,
      "outputs": []
    },
    {
      "cell_type": "code",
      "metadata": {
        "id": "6jy4TFV_7eXl"
      },
      "source": [
        "(trainData, testData, trainAns, testAns) = train_test_split(\n",
        "    df_norm[[MATH, READ, WRITE]].to_numpy(),\n",
        "    df_norm[[GENDER]].to_numpy(),\n",
        "    train_size=0.7)"
      ],
      "execution_count": null,
      "outputs": []
    },
    {
      "cell_type": "code",
      "metadata": {
        "id": "zvwGRLjr5Tgw"
      },
      "source": [
        "kNN_1 = KNeighborsClassifier(n_neighbors=1)\n",
        "kNN_3 = KNeighborsClassifier(n_neighbors=3)\n",
        "kNN_5 = KNeighborsClassifier(n_neighbors=5)\n",
        "kNN_7 = KNeighborsClassifier(n_neighbors=7)"
      ],
      "execution_count": null,
      "outputs": []
    },
    {
      "cell_type": "code",
      "metadata": {
        "colab": {
          "base_uri": "https://localhost:8080/"
        },
        "id": "FRnE93QW6mie",
        "outputId": "910b8634-9809-41ec-be18-63599261f46d"
      },
      "source": [
        "kNN_1.fit(trainData, trainAns)\n",
        "print(classification_report(testAns, kNN_1.predict(testData)))"
      ],
      "execution_count": null,
      "outputs": [
        {
          "output_type": "stream",
          "text": [
            "              precision    recall  f1-score   support\n",
            "\n",
            "           0       0.80      0.76      0.78       144\n",
            "           1       0.79      0.83      0.81       156\n",
            "\n",
            "    accuracy                           0.79       300\n",
            "   macro avg       0.79      0.79      0.79       300\n",
            "weighted avg       0.79      0.79      0.79       300\n",
            "\n"
          ],
          "name": "stdout"
        },
        {
          "output_type": "stream",
          "text": [
            "/usr/local/lib/python3.7/dist-packages/ipykernel_launcher.py:1: DataConversionWarning: A column-vector y was passed when a 1d array was expected. Please change the shape of y to (n_samples, ), for example using ravel().\n",
            "  \"\"\"Entry point for launching an IPython kernel.\n"
          ],
          "name": "stderr"
        }
      ]
    },
    {
      "cell_type": "code",
      "metadata": {
        "colab": {
          "base_uri": "https://localhost:8080/"
        },
        "id": "VP28CAK460Fl",
        "outputId": "bb591961-cf09-4547-de52-68209e8e0dc6"
      },
      "source": [
        "kNN_3.fit(trainData, trainAns)\n",
        "print(classification_report(testAns, kNN_3.predict(testData)))"
      ],
      "execution_count": null,
      "outputs": [
        {
          "output_type": "stream",
          "text": [
            "              precision    recall  f1-score   support\n",
            "\n",
            "           0       0.87      0.79      0.83       144\n",
            "           1       0.82      0.89      0.86       156\n",
            "\n",
            "    accuracy                           0.84       300\n",
            "   macro avg       0.85      0.84      0.84       300\n",
            "weighted avg       0.85      0.84      0.84       300\n",
            "\n"
          ],
          "name": "stdout"
        },
        {
          "output_type": "stream",
          "text": [
            "/usr/local/lib/python3.7/dist-packages/ipykernel_launcher.py:1: DataConversionWarning: A column-vector y was passed when a 1d array was expected. Please change the shape of y to (n_samples, ), for example using ravel().\n",
            "  \"\"\"Entry point for launching an IPython kernel.\n"
          ],
          "name": "stderr"
        }
      ]
    },
    {
      "cell_type": "code",
      "metadata": {
        "colab": {
          "base_uri": "https://localhost:8080/"
        },
        "id": "RY8e6xT-7RR3",
        "outputId": "c563e052-642d-40ec-bb77-dd5f1b19ef87"
      },
      "source": [
        "kNN_5.fit(trainData, trainAns)\n",
        "print(classification_report(testAns, kNN_5.predict(testData)))"
      ],
      "execution_count": null,
      "outputs": [
        {
          "output_type": "stream",
          "text": [
            "              precision    recall  f1-score   support\n",
            "\n",
            "           0       0.88      0.78      0.82       144\n",
            "           1       0.81      0.90      0.85       156\n",
            "\n",
            "    accuracy                           0.84       300\n",
            "   macro avg       0.84      0.84      0.84       300\n",
            "weighted avg       0.84      0.84      0.84       300\n",
            "\n"
          ],
          "name": "stdout"
        },
        {
          "output_type": "stream",
          "text": [
            "/usr/local/lib/python3.7/dist-packages/ipykernel_launcher.py:1: DataConversionWarning: A column-vector y was passed when a 1d array was expected. Please change the shape of y to (n_samples, ), for example using ravel().\n",
            "  \"\"\"Entry point for launching an IPython kernel.\n"
          ],
          "name": "stderr"
        }
      ]
    },
    {
      "cell_type": "code",
      "metadata": {
        "colab": {
          "base_uri": "https://localhost:8080/"
        },
        "id": "l_DdvNKf7VF5",
        "outputId": "583d8a0a-87a1-466e-e6c7-d84b0bcd52d8"
      },
      "source": [
        "kNN_7.fit(trainData, trainAns)\n",
        "print(classification_report(testAns, kNN_7.predict(testData)))"
      ],
      "execution_count": null,
      "outputs": [
        {
          "output_type": "stream",
          "text": [
            "              precision    recall  f1-score   support\n",
            "\n",
            "           0       0.84      0.79      0.82       144\n",
            "           1       0.82      0.87      0.84       156\n",
            "\n",
            "    accuracy                           0.83       300\n",
            "   macro avg       0.83      0.83      0.83       300\n",
            "weighted avg       0.83      0.83      0.83       300\n",
            "\n"
          ],
          "name": "stdout"
        },
        {
          "output_type": "stream",
          "text": [
            "/usr/local/lib/python3.7/dist-packages/ipykernel_launcher.py:1: DataConversionWarning: A column-vector y was passed when a 1d array was expected. Please change the shape of y to (n_samples, ), for example using ravel().\n",
            "  \"\"\"Entry point for launching an IPython kernel.\n"
          ],
          "name": "stderr"
        }
      ]
    },
    {
      "cell_type": "markdown",
      "metadata": {
        "id": "scjFX00E7q1I"
      },
      "source": [
        "Самый хороший результат дали классификаторы с 3 и 5 соседями. Проверим, вдруг повезет, и с 4 соседями будет наиболее оптимальный вариант"
      ]
    },
    {
      "cell_type": "code",
      "metadata": {
        "colab": {
          "base_uri": "https://localhost:8080/"
        },
        "id": "AaJCLeXZ7Ybo",
        "outputId": "0c7ede99-1834-4243-fc3a-1bf8d5c8de3a"
      },
      "source": [
        "kNN_4 = KNeighborsClassifier(n_neighbors=4)\n",
        "kNN_4.fit(trainData, trainAns)\n",
        "print(classification_report(testAns, kNN_4.predict(testData)))"
      ],
      "execution_count": null,
      "outputs": [
        {
          "output_type": "stream",
          "text": [
            "              precision    recall  f1-score   support\n",
            "\n",
            "           0       0.83      0.85      0.84       144\n",
            "           1       0.86      0.84      0.85       156\n",
            "\n",
            "    accuracy                           0.84       300\n",
            "   macro avg       0.84      0.84      0.84       300\n",
            "weighted avg       0.84      0.84      0.84       300\n",
            "\n"
          ],
          "name": "stdout"
        },
        {
          "output_type": "stream",
          "text": [
            "/usr/local/lib/python3.7/dist-packages/ipykernel_launcher.py:2: DataConversionWarning: A column-vector y was passed when a 1d array was expected. Please change the shape of y to (n_samples, ), for example using ravel().\n",
            "  \n"
          ],
          "name": "stderr"
        }
      ]
    },
    {
      "cell_type": "markdown",
      "metadata": {
        "id": "2EG7af958AJW"
      },
      "source": [
        "Тоже хороший результат, но я бы ориентировался на классификатор с 3 соседями"
      ]
    },
    {
      "cell_type": "code",
      "metadata": {
        "colab": {
          "base_uri": "https://localhost:8080/",
          "height": 297
        },
        "id": "XmGcVEqt76m4",
        "outputId": "73f82c4f-c118-4f26-f99b-1e81dbc132cb"
      },
      "source": [
        "plot_confusion_matrix(kNN_3, testData, testAns)"
      ],
      "execution_count": null,
      "outputs": [
        {
          "output_type": "execute_result",
          "data": {
            "text/plain": [
              "<sklearn.metrics._plot.confusion_matrix.ConfusionMatrixDisplay at 0x7fc0ee410410>"
            ]
          },
          "metadata": {
            "tags": []
          },
          "execution_count": 65
        },
        {
          "output_type": "display_data",
          "data": {
            "image/png": "[encoded data removed]",
            "text/plain": [
              "<Figure size 432x288 with 2 Axes>"
            ]
          },
          "metadata": {
            "tags": [],
            "needs_background": "light"
          }
        }
      ]
    },
    {
      "cell_type": "markdown",
      "metadata": {
        "id": "wqY2FjIE8aRL"
      },
      "source": [
        "Попробуем с помощью того же kNN-классификатора предсказать уровень образования родителей (хотя и помним, что он не очень сильно кореллировал с результатами)"
      ]
    },
    {
      "cell_type": "code",
      "metadata": {
        "id": "y4ByUg4z8OU5"
      },
      "source": [
        "kNN_1_ple = KNeighborsClassifier(n_neighbors=1)\n",
        "kNN_3_ple = KNeighborsClassifier(n_neighbors=3)\n",
        "kNN_5_ple = KNeighborsClassifier(n_neighbors=5)\n",
        "kNN_7_ple = KNeighborsClassifier(n_neighbors=7)"
      ],
      "execution_count": null,
      "outputs": []
    },
    {
      "cell_type": "code",
      "metadata": {
        "id": "z8DzZH2O8oIs"
      },
      "source": [
        "(trainData, testData, trainAns, testAns) = train_test_split(\n",
        "    df_norm[[MATH, READ, WRITE]].to_numpy(),\n",
        "    df_norm[[PLE]].to_numpy(),\n",
        "    train_size=0.7)"
      ],
      "execution_count": null,
      "outputs": []
    },
    {
      "cell_type": "code",
      "metadata": {
        "colab": {
          "base_uri": "https://localhost:8080/"
        },
        "id": "FyAMUqIf8v9s",
        "outputId": "9682dc63-1c56-4166-be26-0af26abbb256"
      },
      "source": [
        "kNN_1_ple.fit(trainData, trainAns)\n",
        "print(classification_report(testAns, kNN_1_ple.predict(testData)))"
      ],
      "execution_count": null,
      "outputs": [
        {
          "output_type": "stream",
          "text": [
            "              precision    recall  f1-score   support\n",
            "\n",
            "           0       0.31      0.33      0.32        67\n",
            "           1       0.06      0.05      0.05        37\n",
            "           2       0.21      0.21      0.21        57\n",
            "           3       0.11      0.11      0.11        19\n",
            "           4       0.25      0.25      0.25        69\n",
            "           5       0.16      0.16      0.16        51\n",
            "\n",
            "    accuracy                           0.21       300\n",
            "   macro avg       0.18      0.18      0.18       300\n",
            "weighted avg       0.21      0.21      0.21       300\n",
            "\n"
          ],
          "name": "stdout"
        },
        {
          "output_type": "stream",
          "text": [
            "/usr/local/lib/python3.7/dist-packages/ipykernel_launcher.py:1: DataConversionWarning: A column-vector y was passed when a 1d array was expected. Please change the shape of y to (n_samples, ), for example using ravel().\n",
            "  \"\"\"Entry point for launching an IPython kernel.\n"
          ],
          "name": "stderr"
        }
      ]
    },
    {
      "cell_type": "code",
      "metadata": {
        "colab": {
          "base_uri": "https://localhost:8080/"
        },
        "id": "IWVV8Ygz81KH",
        "outputId": "ee6a9b4d-f2ee-4577-82d0-5bff7e734a03"
      },
      "source": [
        "kNN_3_ple.fit(trainData, trainAns)\n",
        "print(classification_report(testAns, kNN_3_ple.predict(testData)))"
      ],
      "execution_count": null,
      "outputs": [
        {
          "output_type": "stream",
          "text": [
            "              precision    recall  f1-score   support\n",
            "\n",
            "           0       0.23      0.45      0.31        67\n",
            "           1       0.15      0.16      0.16        37\n",
            "           2       0.23      0.21      0.22        57\n",
            "           3       0.18      0.11      0.13        19\n",
            "           4       0.28      0.16      0.20        69\n",
            "           5       0.20      0.12      0.15        51\n",
            "\n",
            "    accuracy                           0.22       300\n",
            "   macro avg       0.21      0.20      0.19       300\n",
            "weighted avg       0.23      0.22      0.21       300\n",
            "\n"
          ],
          "name": "stdout"
        },
        {
          "output_type": "stream",
          "text": [
            "/usr/local/lib/python3.7/dist-packages/ipykernel_launcher.py:1: DataConversionWarning: A column-vector y was passed when a 1d array was expected. Please change the shape of y to (n_samples, ), for example using ravel().\n",
            "  \"\"\"Entry point for launching an IPython kernel.\n"
          ],
          "name": "stderr"
        }
      ]
    },
    {
      "cell_type": "code",
      "metadata": {
        "id": "_WnV0VYq84Rx",
        "colab": {
          "base_uri": "https://localhost:8080/"
        },
        "outputId": "d6d5be85-8452-4865-db8a-779c9547ab86"
      },
      "source": [
        "kNN_5_ple.fit(trainData, trainAns)\n",
        "print(classification_report(testAns, kNN_5_ple.predict(testData)))"
      ],
      "execution_count": null,
      "outputs": [
        {
          "output_type": "stream",
          "text": [
            "              precision    recall  f1-score   support\n",
            "\n",
            "           0       0.23      0.40      0.29        67\n",
            "           1       0.25      0.14      0.18        37\n",
            "           2       0.24      0.25      0.24        57\n",
            "           3       0.18      0.11      0.13        19\n",
            "           4       0.24      0.20      0.22        69\n",
            "           5       0.15      0.10      0.12        51\n",
            "\n",
            "    accuracy                           0.22       300\n",
            "   macro avg       0.21      0.20      0.20       300\n",
            "weighted avg       0.22      0.22      0.21       300\n",
            "\n"
          ],
          "name": "stdout"
        },
        {
          "output_type": "stream",
          "text": [
            "/usr/local/lib/python3.7/dist-packages/ipykernel_launcher.py:1: DataConversionWarning: A column-vector y was passed when a 1d array was expected. Please change the shape of y to (n_samples, ), for example using ravel().\n",
            "  \"\"\"Entry point for launching an IPython kernel.\n"
          ],
          "name": "stderr"
        }
      ]
    },
    {
      "cell_type": "markdown",
      "metadata": {
        "id": "NWlyJoNj9B_V"
      },
      "source": [
        "Результат уже хуже"
      ]
    },
    {
      "cell_type": "code",
      "metadata": {
        "colab": {
          "base_uri": "https://localhost:8080/"
        },
        "id": "Bzb2YJHx9Z90",
        "outputId": "de110860-347f-4b57-b007-66168670681c"
      },
      "source": [
        "kNN_7_ple.fit(trainData, trainAns)\n",
        "print(classification_report(testAns, kNN_7_ple.predict(testData)))"
      ],
      "execution_count": null,
      "outputs": [
        {
          "output_type": "stream",
          "text": [
            "              precision    recall  f1-score   support\n",
            "\n",
            "           0       0.22      0.40      0.28        67\n",
            "           1       0.14      0.08      0.10        37\n",
            "           2       0.19      0.21      0.20        57\n",
            "           3       0.00      0.00      0.00        19\n",
            "           4       0.34      0.30      0.32        69\n",
            "           5       0.15      0.08      0.10        51\n",
            "\n",
            "    accuracy                           0.22       300\n",
            "   macro avg       0.18      0.18      0.17       300\n",
            "weighted avg       0.21      0.22      0.21       300\n",
            "\n"
          ],
          "name": "stdout"
        },
        {
          "output_type": "stream",
          "text": [
            "/usr/local/lib/python3.7/dist-packages/ipykernel_launcher.py:1: DataConversionWarning: A column-vector y was passed when a 1d array was expected. Please change the shape of y to (n_samples, ), for example using ravel().\n",
            "  \"\"\"Entry point for launching an IPython kernel.\n"
          ],
          "name": "stderr"
        }
      ]
    },
    {
      "cell_type": "markdown",
      "metadata": {
        "id": "7h3DsffN9hJ3"
      },
      "source": [
        "Лучше, чем с классификатором, который работает с тремя соседями, мы не увидим результат."
      ]
    },
    {
      "cell_type": "code",
      "metadata": {
        "colab": {
          "base_uri": "https://localhost:8080/",
          "height": 297
        },
        "id": "3yyiE0689f1e",
        "outputId": "42a3ccc3-13b3-424f-a678-7fd908754ee1"
      },
      "source": [
        "plot_confusion_matrix(kNN_3_ple, testData, testAns)"
      ],
      "execution_count": null,
      "outputs": [
        {
          "output_type": "execute_result",
          "data": {
            "text/plain": [
              "<sklearn.metrics._plot.confusion_matrix.ConfusionMatrixDisplay at 0x7fc0ef2469d0>"
            ]
          },
          "metadata": {
            "tags": []
          },
          "execution_count": 74
        },
        {
          "output_type": "display_data",
          "data": {
            "image/png": "[encoded data removed]",
            "text/plain": [
              "<Figure size 432x288 with 2 Axes>"
            ]
          },
          "metadata": {
            "tags": [],
            "needs_background": "light"
          }
        }
      ]
    },
    {
      "cell_type": "code",
      "metadata": {
        "id": "30lJaCZz9uMI"
      },
      "source": [
        ""
      ],
      "execution_count": null,
      "outputs": []
    }
  ]
}